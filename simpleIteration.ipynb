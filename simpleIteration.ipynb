{
 "cells": [
  {
   "cell_type": "code",
   "execution_count": 24,
   "metadata": {},
   "outputs": [
    {
     "name": "stdout",
     "output_type": "stream",
     "text": [
      "What is the cap?  25\n",
      "3 , 5\n",
      "5 , 7\n",
      "11 , 13\n",
      "17 , 19\n",
      "[3, 2, 4, 4]\n",
      "Total runtime: 0.0019953250885009766\n"
     ]
    }
   ],
   "source": [
    "import numpy as py\n",
    "import pandas as pd\n",
    "import matplotlib.pyplot as plt\n",
    "import math\n",
    "import time\n",
    "\n",
    "from random import seed\n",
    "from random import random\n",
    "from random import uniform\n",
    "\n",
    "j = input(\"What is the cap?  \")\n",
    "j = int(j)\n",
    "\n",
    "start = time.time()\n",
    "\n",
    "comp = False\n",
    "prev = 0\n",
    "mini = 3\n",
    "maxi = 0\n",
    "dist = 0\n",
    "count = 1\n",
    "lst =[]\n",
    "lst2 =[]\n",
    "\n",
    "def checkTwin(num):\n",
    "    global prev, mini, maxi, dist, count\n",
    "    if num - prev == 2:\n",
    "        print(prev, \",\", num)\n",
    "        dist = prev - mini\n",
    "        lst.append(dist)\n",
    "    mini = prev\n",
    "    maxi = num\n",
    "    prev = num\n",
    "    \n",
    "    lst2.append(count)\n",
    "    count += 1\n",
    "\n",
    "for i in range(3,j+1,2):\n",
    "    for k in range(2,i):\n",
    "        if (i%k) == 0:\n",
    "            comp = True\n",
    "    if comp == False:\n",
    "#         print(i, \" is prime\")\n",
    "        checkTwin(i)\n",
    "#     else:\n",
    "#         print(i, \" is NOT prime\")\n",
    "    comp = False\n",
    "  \n",
    "print(lst)\n",
    "\n",
    "end = time.time()\n",
    "\n",
    "print(\"Total runtime: \" + str(end - start))"
   ]
  },
  {
   "cell_type": "code",
   "execution_count": null,
   "metadata": {},
   "outputs": [],
   "source": []
  }
 ],
 "metadata": {
  "kernelspec": {
   "display_name": "Python 3",
   "language": "python",
   "name": "python3"
  },
  "language_info": {
   "codemirror_mode": {
    "name": "ipython",
    "version": 3
   },
   "file_extension": ".py",
   "mimetype": "text/x-python",
   "name": "python",
   "nbconvert_exporter": "python",
   "pygments_lexer": "ipython3",
   "version": "3.8.5"
  }
 },
 "nbformat": 4,
 "nbformat_minor": 4
}
