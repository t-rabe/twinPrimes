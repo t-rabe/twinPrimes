{
 "cells": [
  {
   "cell_type": "code",
   "execution_count": 62,
   "metadata": {
    "scrolled": true
   },
   "outputs": [
    {
     "name": "stdout",
     "output_type": "stream",
     "text": [
      "What is the cap?  1000\n"
     ]
    },
    {
     "data": {
      "image/png": "[encoded data removed]",
      "text/plain": [
       "<Figure size 432x288 with 1 Axes>"
      ]
     },
     "metadata": {
      "needs_background": "light"
     },
     "output_type": "display_data"
    },
    {
     "name": "stdout",
     "output_type": "stream",
     "text": [
      "35\n",
      "Total runtime: 0.10046744346618652\n",
      "Graph runtime: 0.0825204849243164\n",
      "Calc runtime: 0.017946958541870117\n"
     ]
    }
   ],
   "source": [
    "import numpy as py\n",
    "import pandas as pd\n",
    "import matplotlib.pyplot as plt\n",
    "import math\n",
    "import time\n",
    "\n",
    "from random import seed\n",
    "from random import random\n",
    "from random import uniform\n",
    "\n",
    "j = input(\"What is the cap?  \")\n",
    "j = int(j)\n",
    "\n",
    "start = time.time()\n",
    "\n",
    "comp = False\n",
    "prev = 3\n",
    "mini = 3\n",
    "dist = 0\n",
    "count = 1\n",
    "lst =[] ## the gap between the last two sets of primes\n",
    "lst2 =[] ## twin index (e.g. 3 = the third set of twin primes)\n",
    "lst3 =[] ## the average of the gaps between primes up until the current index\n",
    "\n",
    "def checkTwin(num):\n",
    "    global prev, mini, dist, count\n",
    "    if num - prev == 2:\n",
    "#         print(prev, \",\", num)\n",
    "        dist = prev - mini\n",
    "        mini = num\n",
    "        \n",
    "        lst.append(dist)\n",
    "        lst2.append(count)\n",
    "        count += 1\n",
    "        \n",
    "    prev = num\n",
    "    \n",
    "    \n",
    "\n",
    "for i in range(3,j+1,2):\n",
    "    for k in range(2,i):\n",
    "        if (i%k) == 0:\n",
    "            comp = True\n",
    "    if comp == False:\n",
    "#         print(i, \" is prime\")\n",
    "        checkTwin(i)\n",
    "#     else:\n",
    "#         print(i, \" is NOT prime\")\n",
    "    comp = False\n",
    "    \n",
    "for i in range(1, len(lst2)+1):\n",
    "    tot = 0\n",
    "    for j in range(i):\n",
    "        tot += lst[j]\n",
    "    lst3.append(tot/i)\n",
    "# print(lst)\n",
    "# print(lst2)\n",
    "\n",
    "start2 = time.time()\n",
    "# ran = int(j * 9/10)  ## meant to represent the last 10% of indices\n",
    "\n",
    "fig = plt.figure()\n",
    "ax1 = fig.add_subplot(111)\n",
    "\n",
    "ax1.plot(lst2,lst, c ='b',label = 'Gap for last 2')\n",
    "ax1.plot(lst2,lst3, c ='r',label = 'Avg gap')\n",
    "plt.title(\"Gaps between twins\")\n",
    "plt.legend()\n",
    "plt.show()\n",
    "\n",
    "# plt.plot(lst2[ran:j+1], lst[ran:j+1])\n",
    "# plt.title(\"Last 10% of data\")\n",
    "# plt.show()\n",
    "\n",
    "end = time.time()\n",
    "\n",
    "print(lst2[len(lst2) -1])\n",
    "print(\"Total runtime: \" + str(end - start))\n",
    "print(\"Graph runtime: \" + str(end - start2))\n",
    "print(\"Calc runtime: \" + str(start2 - start))"
   ]
  },
  {
   "cell_type": "code",
   "execution_count": null,
   "metadata": {},
   "outputs": [],
   "source": [
    "Cap - Number of Twins\n",
    "1 - 0\n",
    "Total runtime: 0.09873533248901367\n",
    "Graph runtime: 0.09873533248901367\n",
    "Calc runtime: 0.0\n",
    "10 - 2\n",
    "Total runtime: 0.06283259391784668\n",
    "Graph runtime: 0.06183505058288574\n",
    "Calc runtime: 0.0009975433349609375\n",
    "100 - 8\n",
    "Total runtime: 0.07380318641662598\n",
    "Graph runtime: 0.07280540466308594\n",
    "Calc runtime: 0.000997781753540039\n",
    "1000 - 35\n",
    "Total runtime: 0.08972454071044922\n",
    "Graph runtime: 0.07174515724182129\n",
    "Calc runtime: 0.01797938346862793\n",
    "10000 - 205\n",
    "Total runtime: 2.028604745864868\n",
    "Graph runtime: 0.0718083381652832\n",
    "Calc runtime: 1.956796407699585\n",
    "50000 - 705\n",
    "Total runtime: 49.50967025756836\n",
    "Graph runtime: 0.07081031799316406\n",
    "Calc runtime: 49.438859939575195\n",
    "100000 - 1224\n",
    "Total runtime: 200.2760190963745\n",
    "Graph runtime: 0.06248617172241211\n",
    "Calc runtime: 200.2135329246521\n",
    "    \n",
    "    \n",
    "O(n^c) where n is the number of twins found"
   ]
  }
 ],
 "metadata": {
  "kernelspec": {
   "display_name": "Python 3 (ipykernel)",
   "language": "python",
   "name": "python3"
  },
  "language_info": {
   "codemirror_mode": {
    "name": "ipython",
    "version": 3
   },
   "file_extension": ".py",
   "mimetype": "text/x-python",
   "name": "python",
   "nbconvert_exporter": "python",
   "pygments_lexer": "ipython3",
   "version": "3.8.5"
  }
 },
 "nbformat": 4,
 "nbformat_minor": 4
}
