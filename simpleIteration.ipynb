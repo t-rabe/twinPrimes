{
 "cells": [
  {
   "cell_type": "code",
   "execution_count": 9,
   "metadata": {},
   "outputs": [
    {
     "name": "stdout",
     "output_type": "stream",
     "text": [
      "What is the cap?  100\n",
      "[0, 0, 4, 4, 10, 10, 16, 10]\n"
     ]
    },
    {
     "data": {
      "image/png": "[encoded data removed]",
      "text/plain": [
       "<Figure size 432x288 with 1 Axes>"
      ]
     },
     "metadata": {
      "needs_background": "light"
     },
     "output_type": "display_data"
    },
    {
     "name": "stdout",
     "output_type": "stream",
     "text": [
      "Total runtime: 0.07380247116088867\n"
     ]
    }
   ],
   "source": [
    "import numpy as py\n",
    "import pandas as pd\n",
    "import matplotlib.pyplot as plt\n",
    "import math\n",
    "import time\n",
    "\n",
    "from random import seed\n",
    "from random import random\n",
    "from random import uniform\n",
    "\n",
    "j = input(\"What is the cap?  \")\n",
    "j = int(j)\n",
    "\n",
    "start = time.time()\n",
    "\n",
    "comp = False\n",
    "prev = 3\n",
    "mini = 3\n",
    "dist = 0\n",
    "count = 1\n",
    "lst =[] ## the gap between the last two sets of primes\n",
    "lst2 =[] ## twin index (e.g. 3 = the third set of twin primes)\n",
    "lst3 =[] ## the average of the gaps between primes up until the current index\n",
    "\n",
    "def checkTwin(num):\n",
    "    global prev, mini, dist, count\n",
    "    if num - prev == 2:\n",
    "#         print(prev, \",\", num)\n",
    "        dist = prev - mini\n",
    "        mini = num\n",
    "        \n",
    "        lst.append(dist)\n",
    "        lst2.append(count)\n",
    "        count += 1\n",
    "        \n",
    "    prev = num\n",
    "    \n",
    "    \n",
    "\n",
    "for i in range(3,j+1,2):\n",
    "    for k in range(2,i):\n",
    "        if (i%k) == 0:\n",
    "            comp = True\n",
    "    if comp == False:\n",
    "#         print(i, \" is prime\")\n",
    "        checkTwin(i)\n",
    "#     else:\n",
    "#         print(i, \" is NOT prime\")\n",
    "    comp = False\n",
    "    \n",
    "for i in range(len(lst2)):\n",
    "    lst3.append()\n",
    "# print(lst)\n",
    "# print(lst2)\n",
    "\n",
    "ran = int(j * 9/10)\n",
    "\n",
    "plt.plot(lst2,lst)\n",
    "plt.title(\"Gaps between twins\")\n",
    "plt.show()\n",
    "\n",
    "plt.plot(lst2,lst3)\n",
    "plt.title(\"Average gaps between twins\")\n",
    "plt.show()\n",
    "\n",
    "# plt.plot(lst2[ran:j+1], lst[ran:j+1])\n",
    "# plt.title(\"Last 10% of data\")\n",
    "# plt.show()\n",
    "\n",
    "end = time.time()\n",
    "\n",
    "print(\"Total runtime: \" + str(end - start))"
   ]
  },
  {
   "cell_type": "code",
   "execution_count": null,
   "metadata": {},
   "outputs": [],
   "source": []
  }
 ],
 "metadata": {
  "kernelspec": {
   "display_name": "Python 3 (ipykernel)",
   "language": "python",
   "name": "python3"
  },
  "language_info": {
   "codemirror_mode": {
    "name": "ipython",
    "version": 3
   },
   "file_extension": ".py",
   "mimetype": "text/x-python",
   "name": "python",
   "nbconvert_exporter": "python",
   "pygments_lexer": "ipython3",
   "version": "3.8.5"
  }
 },
 "nbformat": 4,
 "nbformat_minor": 4
}
